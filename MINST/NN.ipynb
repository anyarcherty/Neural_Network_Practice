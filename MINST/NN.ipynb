{
 "cells": [
  {
   "cell_type": "markdown",
   "metadata": {},
   "source": [
    "# Feed-Forward Neural Nets on the MNIST Dataset\n",
    "\n",
    "In this exercise you will implement a 3-layer feed-forward neural network with ReLU activation to perform a binary classification task. We will attempt to take in images and classify them as 8s or 5s."
   ]
  },
  {
   "cell_type": "markdown",
   "metadata": {},
   "source": [
    "<img src=\"mnist_sample.png\", height=\"200\" width=\"200\">"
   ]
  },
  {
   "cell_type": "markdown",
   "metadata": {},
   "source": [
    "## Task 1: Load the Data\n",
    "\n",
    "Using the np.loadtxt() function, import all the data."
   ]
  },
  {
   "cell_type": "code",
   "execution_count": 1,
   "metadata": {},
   "outputs": [
    {
     "name": "stderr",
     "output_type": "stream",
     "text": [
      "/usr/local/bin/anaconda3/lib/python3.6/site-packages/h5py/__init__.py:36: FutureWarning: Conversion of the second argument of issubdtype from `float` to `np.floating` is deprecated. In future, it will be treated as `np.float64 == np.dtype(float).type`.\n",
      "  from ._conv import register_converters as _register_converters\n"
     ]
    }
   ],
   "source": [
    "import tensorflow as tf\n",
    "import numpy as np\n",
    "from tensorflow.examples.tutorials.mnist import input_data"
   ]
  },
  {
   "cell_type": "code",
   "execution_count": 3,
   "metadata": {},
   "outputs": [
    {
     "name": "stdout",
     "output_type": "stream",
     "text": [
      "WARNING:tensorflow:From /usr/local/bin/anaconda3/lib/python3.6/site-packages/tensorflow/contrib/learn/python/learn/datasets/mnist.py:262: extract_images (from tensorflow.contrib.learn.python.learn.datasets.mnist) is deprecated and will be removed in a future version.\n",
      "Instructions for updating:\n",
      "Please use tf.data to implement this functionality.\n",
      "Extracting MNIST_data/train-images-idx3-ubyte.gz\n",
      "WARNING:tensorflow:From /usr/local/bin/anaconda3/lib/python3.6/site-packages/tensorflow/contrib/learn/python/learn/datasets/mnist.py:267: extract_labels (from tensorflow.contrib.learn.python.learn.datasets.mnist) is deprecated and will be removed in a future version.\n",
      "Instructions for updating:\n",
      "Please use tf.data to implement this functionality.\n",
      "Extracting MNIST_data/train-labels-idx1-ubyte.gz\n",
      "WARNING:tensorflow:From /usr/local/bin/anaconda3/lib/python3.6/site-packages/tensorflow/contrib/learn/python/learn/datasets/mnist.py:110: dense_to_one_hot (from tensorflow.contrib.learn.python.learn.datasets.mnist) is deprecated and will be removed in a future version.\n",
      "Instructions for updating:\n",
      "Please use tf.one_hot on tensors.\n",
      "Extracting MNIST_data/t10k-images-idx3-ubyte.gz\n",
      "Extracting MNIST_data/t10k-labels-idx1-ubyte.gz\n",
      "WARNING:tensorflow:From /usr/local/bin/anaconda3/lib/python3.6/site-packages/tensorflow/contrib/learn/python/learn/datasets/mnist.py:290: DataSet.__init__ (from tensorflow.contrib.learn.python.learn.datasets.mnist) is deprecated and will be removed in a future version.\n",
      "Instructions for updating:\n",
      "Please use alternatives such as official/mnist/dataset.py from tensorflow/models.\n"
     ]
    }
   ],
   "source": [
    "mnist = input_data.read_data_sets(\"MNIST_data/\", one_hot=True)"
   ]
  },
  {
   "cell_type": "code",
   "execution_count": 4,
   "metadata": {},
   "outputs": [],
   "source": [
    "training_images = mnist.train.images\n",
    "labels = mnist.train.labels\n",
    "test_images = mnist.test.images\n",
    "test_labels = mnist.test.labels"
   ]
  },
  {
   "cell_type": "markdown",
   "metadata": {},
   "source": [
    "## Declaring Placeholders (Inputs)\n",
    "\n",
    "Tensorflow uses the \"placeholder\" keyword to denote values to feed into the network as input. Write all placeholders necessary to perform our learning problem:"
   ]
  },
  {
   "cell_type": "code",
   "execution_count": 5,
   "metadata": {},
   "outputs": [],
   "source": [
    "in_layer = 784\n",
    "out_layer = 10\n",
    "learning_rate = 0.01"
   ]
  },
  {
   "cell_type": "code",
   "execution_count": 6,
   "metadata": {},
   "outputs": [],
   "source": [
    "img = tf.placeholder(tf.float32, [None, in_layer])\n",
    "ans = tf.placeholder(tf.float32, [None, out_layer])"
   ]
  },
  {
   "cell_type": "markdown",
   "metadata": {},
   "source": [
    "## Network Architecture\n",
    "\n",
    "Your Network should contain 3 feed-forward layers, each with a bias vector. The structure should be as follows:\n",
    "* Feed-forward layer from 784 nodes to 784 nodes\n",
    "* Feed-forward layer from 784 nodes to 256 nodes\n",
    "* Feed-forward layer from 256 nodes to 2 nodes"
   ]
  },
  {
   "cell_type": "code",
   "execution_count": 7,
   "metadata": {},
   "outputs": [],
   "source": [
    "hiddenSz1 = 784\n",
    "hiddenSz2 = 256\n",
    "\n",
    "weights = {\n",
    "    'w1': tf.Variable(tf.random_normal([in_layer, hiddenSz1], stddev = 0.1)),\n",
    "    'w2': tf.Variable(tf.random_normal([hiddenSz1, hiddenSz2], stddev = 0.1)),\n",
    "    'out': tf.Variable(tf.random_normal([hiddenSz2, out_layer], stddev = 0.1))\n",
    "}\n",
    "biases = {\n",
    "    'b1': tf.Variable(tf.random_normal([hiddenSz1], stddev = 0.1)),\n",
    "    'b2': tf.Variable(tf.random_normal([hiddenSz2], stddev = 0.1)),\n",
    "    'out': tf.Variable(tf.random_normal([out_layer], stddev = 0.1))\n",
    "}"
   ]
  },
  {
   "cell_type": "markdown",
   "metadata": {},
   "source": [
    "## Forward and Backward Pass\n",
    "Code in the forward and backward pass for the Neural Net\n",
    "* Use ReLU activation\n",
    "* Use softmax probabilities \n",
    "* Use cross entropy loss function"
   ]
  },
  {
   "cell_type": "code",
   "execution_count": 8,
   "metadata": {},
   "outputs": [
    {
     "name": "stdout",
     "output_type": "stream",
     "text": [
      "WARNING:tensorflow:From <ipython-input-8-20b89919cd61>:17: softmax_cross_entropy_with_logits (from tensorflow.python.ops.nn_ops) is deprecated and will be removed in a future version.\n",
      "Instructions for updating:\n",
      "\n",
      "Future major versions of TensorFlow will allow gradients to flow\n",
      "into the labels input on backprop by default.\n",
      "\n",
      "See tf.nn.softmax_cross_entropy_with_logits_v2.\n",
      "\n"
     ]
    }
   ],
   "source": [
    "# Performing the forward pass through the layers\n",
    "def neural_network(data):\n",
    "    layer_1 = tf.add(tf.matmul(data, weights['w1']), biases['b1'])\n",
    "    layer_1 = tf.nn.relu(layer_1)\n",
    "    layer_2 = tf.add(tf.matmul(layer_1, weights['w2']), biases['b2'])\n",
    "    layer_2 = tf.nn.relu(layer_2)\n",
    "    output = tf.matmul(layer_2, weights['out'])+ biases['out']\n",
    "    return output\n",
    "\n",
    "# Softmax Probabilities (network output)\n",
    "output = neural_network(img)\n",
    "prediction = tf.nn.softmax(output)\n",
    "\n",
    "# backward pass -- adjusting the parameters\n",
    "# Note: You don't need to compute the gradient yourself. \n",
    "# Simply use the tf.train.GradientDescentOptimizer() function\n",
    "loss = tf.reduce_mean(tf.nn.softmax_cross_entropy_with_logits(labels = ans, logits = output))\n",
    "train = tf.train.GradientDescentOptimizer(learning_rate).minimize(loss)\n",
    "\n",
    "# Compute the accuracy\n",
    "NumCorrect = tf.equal(tf.argmax(prediction, 1), tf.argmax(ans, 1))\n",
    "accuracy = tf.reduce_mean(tf.cast(NumCorrect, tf.float32))"
   ]
  },
  {
   "cell_type": "code",
   "execution_count": 9,
   "metadata": {},
   "outputs": [],
   "source": [
    "sess = tf.Session()\n",
    "sess.run(tf.global_variables_initializer())"
   ]
  },
  {
   "cell_type": "markdown",
   "metadata": {},
   "source": [
    "## Training the Model\n",
    "Use SGD to train the network"
   ]
  },
  {
   "cell_type": "code",
   "execution_count": 10,
   "metadata": {},
   "outputs": [],
   "source": [
    "for i in range(len(training_images)):\n",
    "    imgs = [training_images[i]]\n",
    "    anss = [labels[i]]\n",
    "    sess.run(train, feed_dict = {img: imgs, ans: anss})    "
   ]
  },
  {
   "cell_type": "markdown",
   "metadata": {},
   "source": [
    "## Finishing Training and Computing Final Training and Testing Accuracy\n",
    "Now that the model is trained, check the accuracy and observe the improvement!"
   ]
  },
  {
   "cell_type": "code",
   "execution_count": 11,
   "metadata": {},
   "outputs": [
    {
     "name": "stdout",
     "output_type": "stream",
     "text": [
      "Train Accuracy: 0.9659454545454546\n",
      "Test Accuracy: 0.9597\n"
     ]
    }
   ],
   "source": [
    "sumAcc=0\n",
    "for i in range(len(test_images)):\n",
    "    imgs = [test_images[i]]\n",
    "    anss = [test_labels[i]]\n",
    "    sumAcc += sess.run(accuracy, feed_dict={img: imgs, ans: anss})\n",
    "\n",
    "trainacc = 0\n",
    "for i in range(len(training_images)):\n",
    "    imgs = [training_images[i]]\n",
    "    anss = [labels[i]]\n",
    "    trainacc += sess.run(accuracy, feed_dict={img: imgs, ans: anss})\n",
    "\n",
    "print (\"Train Accuracy: %r\" % (trainacc/len(training_images)))\n",
    "print (\"Test Accuracy: %r\" % (sumAcc/len(test_images)))"
   ]
  },
  {
   "cell_type": "markdown",
   "metadata": {},
   "source": [
    " "
   ]
  }
 ],
 "metadata": {
  "kernelspec": {
   "display_name": "Python 3",
   "language": "python",
   "name": "python3"
  },
  "language_info": {
   "codemirror_mode": {
    "name": "ipython",
    "version": 3
   },
   "file_extension": ".py",
   "mimetype": "text/x-python",
   "name": "python",
   "nbconvert_exporter": "python",
   "pygments_lexer": "ipython3",
   "version": "3.6.4"
  }
 },
 "nbformat": 4,
 "nbformat_minor": 2
}
