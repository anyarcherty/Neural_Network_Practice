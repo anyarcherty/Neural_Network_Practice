{
 "cells": [
  {
   "cell_type": "markdown",
   "metadata": {
    "button": false,
    "new_sheet": false,
    "run_control": {
     "read_only": false
    }
   },
   "source": [
    "# Convolutional Neural Networks"
   ]
  },
  {
   "cell_type": "markdown",
   "metadata": {
    "button": false,
    "new_sheet": false,
    "run_control": {
     "read_only": false
    }
   },
   "source": [
    "<img src=\"mnist_sample.png\", height=200, width=200>"
   ]
  },
  {
   "cell_type": "code",
   "execution_count": 1,
   "metadata": {},
   "outputs": [
    {
     "name": "stderr",
     "output_type": "stream",
     "text": [
      "/usr/local/bin/anaconda3/lib/python3.6/site-packages/h5py/__init__.py:36: FutureWarning: Conversion of the second argument of issubdtype from `float` to `np.floating` is deprecated. In future, it will be treated as `np.float64 == np.dtype(float).type`.\n",
      "  from ._conv import register_converters as _register_converters\n"
     ]
    },
    {
     "name": "stdout",
     "output_type": "stream",
     "text": [
      "WARNING:tensorflow:From /usr/local/bin/anaconda3/lib/python3.6/site-packages/tensorflow/contrib/learn/python/learn/datasets/base.py:198: retry (from tensorflow.contrib.learn.python.learn.datasets.base) is deprecated and will be removed in a future version.\n",
      "Instructions for updating:\n",
      "Use the retry module or similar alternatives.\n"
     ]
    }
   ],
   "source": [
    "import time\n",
    "import tensorflow as tf \n",
    "from tensorflow.examples.tutorials.mnist import input_data"
   ]
  },
  {
   "cell_type": "markdown",
   "metadata": {
    "button": false,
    "new_sheet": false,
    "run_control": {
     "read_only": false
    }
   },
   "source": [
    "## Task 1: Load the Data\n",
    "\n",
    "Load the entire MNIST set from Tensorflow's dataset."
   ]
  },
  {
   "cell_type": "code",
   "execution_count": 2,
   "metadata": {
    "button": false,
    "new_sheet": false,
    "run_control": {
     "read_only": false
    }
   },
   "outputs": [
    {
     "name": "stdout",
     "output_type": "stream",
     "text": [
      "WARNING:tensorflow:From <ipython-input-2-a839aeb82f4b>:1: read_data_sets (from tensorflow.contrib.learn.python.learn.datasets.mnist) is deprecated and will be removed in a future version.\n",
      "Instructions for updating:\n",
      "Please use alternatives such as official/mnist/dataset.py from tensorflow/models.\n",
      "WARNING:tensorflow:From /usr/local/bin/anaconda3/lib/python3.6/site-packages/tensorflow/contrib/learn/python/learn/datasets/mnist.py:260: maybe_download (from tensorflow.contrib.learn.python.learn.datasets.base) is deprecated and will be removed in a future version.\n",
      "Instructions for updating:\n",
      "Please write your own downloading logic.\n",
      "WARNING:tensorflow:From /usr/local/bin/anaconda3/lib/python3.6/site-packages/tensorflow/contrib/learn/python/learn/datasets/mnist.py:262: extract_images (from tensorflow.contrib.learn.python.learn.datasets.mnist) is deprecated and will be removed in a future version.\n",
      "Instructions for updating:\n",
      "Please use tf.data to implement this functionality.\n",
      "Extracting MNIST_data/train-images-idx3-ubyte.gz\n",
      "WARNING:tensorflow:From /usr/local/bin/anaconda3/lib/python3.6/site-packages/tensorflow/contrib/learn/python/learn/datasets/mnist.py:267: extract_labels (from tensorflow.contrib.learn.python.learn.datasets.mnist) is deprecated and will be removed in a future version.\n",
      "Instructions for updating:\n",
      "Please use tf.data to implement this functionality.\n",
      "Extracting MNIST_data/train-labels-idx1-ubyte.gz\n",
      "WARNING:tensorflow:From /usr/local/bin/anaconda3/lib/python3.6/site-packages/tensorflow/contrib/learn/python/learn/datasets/mnist.py:110: dense_to_one_hot (from tensorflow.contrib.learn.python.learn.datasets.mnist) is deprecated and will be removed in a future version.\n",
      "Instructions for updating:\n",
      "Please use tf.one_hot on tensors.\n",
      "Extracting MNIST_data/t10k-images-idx3-ubyte.gz\n",
      "Extracting MNIST_data/t10k-labels-idx1-ubyte.gz\n",
      "WARNING:tensorflow:From /usr/local/bin/anaconda3/lib/python3.6/site-packages/tensorflow/contrib/learn/python/learn/datasets/mnist.py:290: DataSet.__init__ (from tensorflow.contrib.learn.python.learn.datasets.mnist) is deprecated and will be removed in a future version.\n",
      "Instructions for updating:\n",
      "Please use alternatives such as official/mnist/dataset.py from tensorflow/models.\n"
     ]
    }
   ],
   "source": [
    "mnist = input_data.read_data_sets(\"MNIST_data/\", one_hot=True)"
   ]
  },
  {
   "cell_type": "markdown",
   "metadata": {},
   "source": [
    "# Set up Parameter"
   ]
  },
  {
   "cell_type": "code",
   "execution_count": 3,
   "metadata": {},
   "outputs": [],
   "source": [
    "# set batchSz batch gradient descent\n",
    "batchSz = 50\n",
    "\n",
    "# set hiddenSz for the hidden layer\n",
    "hiddenSz = 1000 \n",
    "\n",
    "# set learning rate \n",
    "l = 0.0004 "
   ]
  },
  {
   "cell_type": "markdown",
   "metadata": {
    "button": false,
    "new_sheet": false,
    "run_control": {
     "read_only": false
    }
   },
   "source": [
    "# Placeholders:"
   ]
  },
  {
   "cell_type": "code",
   "execution_count": 4,
   "metadata": {
    "button": false,
    "new_sheet": false,
    "run_control": {
     "read_only": false
    }
   },
   "outputs": [],
   "source": [
    "# Images and their corresponding labels\n",
    "img = tf.placeholder(tf.float32, [None, 28, 28, 1])\n",
    "ans = tf.placeholder(tf.float32, [None, 10])"
   ]
  },
  {
   "cell_type": "markdown",
   "metadata": {
    "button": false,
    "new_sheet": false,
    "run_control": {
     "read_only": false
    }
   },
   "source": [
    "## Architecture\n",
    "* First convolution layer with 5x5 filter with 1 in channel and 32 in depth and SAME padding\n",
    "* ReLU\n",
    "* Maxpooling layer with 2x2 filter and SAME padding\n",
    "* Second Convolution layer with 5x5 filter 32 in channel and 64 in depth\n",
    "* ReLU\n",
    "* Maxpooling layer with 2x2 filter and SAME padding\n",
    "* Feed-forward layer from 3136 (you should have 3136 parameters at this point) to 1000\n",
    "* ReLU\n",
    "* Feed-forward layer from 1000 to 10\n",
    "* Softmax/Sigmoid\n"
   ]
  },
  {
   "cell_type": "code",
   "execution_count": 5,
   "metadata": {},
   "outputs": [],
   "source": [
    "# Create some wrappers for simplicity\n",
    "def conv2d(x, W, b, strides=1):\n",
    "    # Conv2D wrapper, with bias and relu activation\n",
    "    x = tf.nn.conv2d(x, W, strides=[1, strides, strides, 1], padding='SAME')\n",
    "    x = tf.nn.bias_add(x, b)\n",
    "    return tf.nn.relu(x)\n",
    "\n",
    "# MaxPool2D wrapper\n",
    "def maxpool2d(x, k=2):\n",
    "    return tf.nn.max_pool(x, \n",
    "                          ksize=[1, k, k, 1], \n",
    "                          strides=[1, k, k, 1],\n",
    "                          padding='SAME')"
   ]
  },
  {
   "cell_type": "code",
   "execution_count": 6,
   "metadata": {},
   "outputs": [],
   "source": [
    "# initial the parameter\n",
    "weights = {'wc1': tf.Variable(tf.truncated_normal([5, 5, 1, 32], stddev=0.1)),\n",
    "           'wc2': tf.Variable(tf.truncated_normal([5, 5, 32, 64], stddev=0.1)),\n",
    "           'wd1': tf.Variable(tf.truncated_normal([64*7*7, hiddenSz], stddev=0.1)),\n",
    "           'out': tf.Variable(tf.truncated_normal([hiddenSz, 10], stddev=0.1))}\n",
    "\n",
    "biases = {'bc1': tf.Variable(tf.constant(0.1, shape=[32])),\n",
    "          'bc2': tf.Variable(tf.constant(0.1, shape=[64])),\n",
    "          'bd1': tf.Variable(tf.constant(0.1, shape=[hiddenSz])),\n",
    "          'out': tf.Variable(tf.constant(0.1, shape=[10]))}"
   ]
  },
  {
   "cell_type": "code",
   "execution_count": 7,
   "metadata": {},
   "outputs": [],
   "source": [
    "# First Convolution layer with 5x5 filters, 1 in channel, and 32 depth\n",
    "# Convolution Layer\n",
    "conv1 = conv2d(img, weights['wc1'], biases['bc1'], strides=1)                     \n",
    "# Max Pooling \n",
    "pool1 = maxpool2d(conv1, k=2)   \n",
    "\n",
    "# Second convolution layer with 5x5 filters, 32 in channel, and 64 in depth\n",
    "# Convolution Layer\n",
    "conv2 = conv2d(pool1, weights['wc2'], biases['bc2'], strides=1) \n",
    "# Max Pooling\n",
    "pool2 = maxpool2d(conv2, k=2)                   \n",
    "\n",
    "# Fully connected layer\n",
    "pool2_flat = tf.reshape(pool2, [-1, weights['wd1'].get_shape().as_list()[0]])\n",
    "fc1 = tf.add(tf.matmul(pool2_flat, weights['wd1']), biases['bd1'])\n",
    "fc1 = tf.nn.relu(fc1)\n",
    "\n",
    "# Output, class prediction\n",
    "out = tf.add(tf.matmul(fc1, weights['out']), biases['out'])\n",
    "prediction = tf.nn.softmax(out)"
   ]
  },
  {
   "cell_type": "markdown",
   "metadata": {
    "button": false,
    "new_sheet": false,
    "run_control": {
     "read_only": false
    }
   },
   "source": [
    "## Forward and Backward Pass\n",
    "Write the forward and backward pass in tensorflow\n",
    "* Use cross entropy loss\n",
    "* Use AdamOptimizer"
   ]
  },
  {
   "cell_type": "code",
   "execution_count": 8,
   "metadata": {
    "button": false,
    "new_sheet": false,
    "run_control": {
     "read_only": false
    }
   },
   "outputs": [
    {
     "name": "stdout",
     "output_type": "stream",
     "text": [
      "WARNING:tensorflow:From <ipython-input-8-3ce4ce53b2ed>:2: softmax_cross_entropy_with_logits (from tensorflow.python.ops.nn_ops) is deprecated and will be removed in a future version.\n",
      "Instructions for updating:\n",
      "\n",
      "Future major versions of TensorFlow will allow gradients to flow\n",
      "into the labels input on backprop by default.\n",
      "\n",
      "See tf.nn.softmax_cross_entropy_with_logits_v2.\n",
      "\n"
     ]
    }
   ],
   "source": [
    "# Forward passs -- compute the cross entropy and output probabilities\n",
    "loss_op = tf.reduce_mean(tf.nn.softmax_cross_entropy_with_logits(logits=out, labels=ans))\n",
    "optimizer = tf.train.AdamOptimizer(learning_rate=l)\n",
    "\n",
    "# Backward pass\n",
    "# Note: you don't need to compute the gradient \n",
    "# Simply use the tf.train.AdamOptimizer() function\n",
    "train = optimizer.minimize(loss_op)\n",
    "\n",
    "# Compute Accuracy\n",
    "correct_pred = tf.equal(tf.argmax(prediction, 1), tf.argmax(ans, 1))\n",
    "accuracy = tf.reduce_mean(tf.cast(correct_pred, tf.float32))\n",
    "\n",
    "sess = tf.Session()\n",
    "sess.run(tf.global_variables_initializer())"
   ]
  },
  {
   "cell_type": "markdown",
   "metadata": {
    "button": false,
    "new_sheet": false,
    "run_control": {
     "read_only": false
    }
   },
   "source": [
    "## Training the Network and Testing our Results\n",
    "Train on 2000 batches"
   ]
  },
  {
   "cell_type": "code",
   "execution_count": 9,
   "metadata": {
    "button": false,
    "new_sheet": false,
    "run_control": {
     "read_only": false
    }
   },
   "outputs": [
    {
     "name": "stdout",
     "output_type": "stream",
     "text": [
      "Train Accuracy: 0.9889454633539373\n",
      "Test Accuracy: 1.0\n",
      "Runtime: 25.9053\n"
     ]
    }
   ],
   "source": [
    "start = time.time()\n",
    "\n",
    "step = 100\n",
    "for i in range(2000):\n",
    "    if i % step == 0: sstart = time.time()  \n",
    "    imgs, anss = mnist.train.next_batch(batchSz)\n",
    "    sess.run(train, feed_dict={img: imgs.reshape([batchSz,28,28,1]), ans: anss})\n",
    "\n",
    "# Batch size for evaluation performance\n",
    "batchSz = 100\n",
    "        \n",
    "# Accuracy for train data\n",
    "trainAcc = 0\n",
    "batchNum =  int(mnist.train.num_examples/batchSz)\n",
    "for i in range(batchNum):\n",
    "    imgs, anss= mnist.train.next_batch(batchSz)\n",
    "    trainAcc += sess.run(accuracy, feed_dict={img: imgs.reshape([batchSz,28,28,1]), ans: anss})\n",
    "print (\"Train Accuracy: %r\" % (trainAcc/batchNum))\n",
    "\n",
    "# Accuracy for test data\n",
    "testAcc = 0\n",
    "batchNum = int(mnist.test.num_examples/batchSz)\n",
    "for i in range(batchNum):\n",
    "    imgs, anss= mnist.test.next_batch(batchSz)\n",
    "    testAcc += sess.run(accuracy, feed_dict={img: imgs.reshape([batchSz,28,28,1]), ans: anss})\n",
    "print (\"Test Accuracy: %r\" % round(testAcc/batchNum))\n",
    "\n",
    "end = time.time()\n",
    "print(\"Runtime: %g\" % (end - start))"
   ]
  },
  {
   "cell_type": "markdown",
   "metadata": {
    "button": false,
    "new_sheet": false,
    "run_control": {
     "read_only": false
    }
   },
   "source": []
  },
  {
   "cell_type": "markdown",
   "metadata": {
    "button": false,
    "new_sheet": false,
    "run_control": {
     "read_only": false
    }
   },
   "source": [
    " "
   ]
  }
 ],
 "metadata": {
  "kernelspec": {
   "display_name": "Python 3",
   "language": "python",
   "name": "python3"
  },
  "language_info": {
   "codemirror_mode": {
    "name": "ipython",
    "version": 3
   },
   "file_extension": ".py",
   "mimetype": "text/x-python",
   "name": "python",
   "nbconvert_exporter": "python",
   "pygments_lexer": "ipython3",
   "version": "3.6.4"
  }
 },
 "nbformat": 4,
 "nbformat_minor": 1
}
